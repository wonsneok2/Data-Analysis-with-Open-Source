{
  "nbformat": 4,
  "nbformat_minor": 0,
  "metadata": {
    "colab": {
      "provenance": [],
      "include_colab_link": true
    },
    "kernelspec": {
      "name": "python3",
      "display_name": "Python 3"
    },
    "language_info": {
      "name": "python"
    }
  },
  "cells": [
    {
      "cell_type": "markdown",
      "metadata": {
        "id": "view-in-github",
        "colab_type": "text"
      },
      "source": [
        "<a href=\"https://colab.research.google.com/github/wonsneok2/Data-Analysis-with-Open-Source/blob/main/%EC%98%A4%ED%94%88%EC%86%8C%EC%8A%A4_%EB%8D%B0%EC%9D%B4%ED%84%B0_%EB%B6%84%EC%84%9D_4%EA%B0%95.ipynb\" target=\"_parent\"><img src=\"https://colab.research.google.com/assets/colab-badge.svg\" alt=\"Open In Colab\"/></a>"
      ]
    },
    {
      "cell_type": "markdown",
      "source": [
        "\n",
        "\n",
        "# 오픈소스 기반 데이터 분석 4강 - 데이터 수집\n"
      ],
      "metadata": {
        "id": "DkPKaAsoRq5Q"
      }
    },
    {
      "cell_type": "markdown",
      "source": [
        "## 4-1 CSV 파일 읽기"
      ],
      "metadata": {
        "id": "-I7BVVlnRrB0"
      }
    },
    {
      "cell_type": "code",
      "source": [
        "import pandas as pd\n",
        "\n",
        "## data.csv 파일 읽기\n",
        "\n",
        "print(df)"
      ],
      "metadata": {
        "id": "2Y2HEiaiRwAI"
      },
      "execution_count": null,
      "outputs": []
    },
    {
      "cell_type": "markdown",
      "source": [
        "## 4-2 JSON 파일 읽기\n",
        "\n"
      ],
      "metadata": {
        "id": "9kHCFaGlRrE0"
      }
    },
    {
      "cell_type": "code",
      "source": [
        "import json\n",
        "import pandas as pd\n",
        "\n",
        "## data.json 파일 출력\n",
        "\n",
        "## data.json 파일 DataFrame 읽기\n",
        "\n",
        "print(df)"
      ],
      "metadata": {
        "id": "IO8bsKekR0W_"
      },
      "execution_count": null,
      "outputs": []
    },
    {
      "cell_type": "markdown",
      "source": [
        "## 4-3 텍스트 파일 읽기 및 데이터 추출"
      ],
      "metadata": {
        "id": "uLd_3A_IRrHG"
      }
    },
    {
      "cell_type": "code",
      "source": [
        "import re\n",
        "\n",
        "## 파일(callcenter20250301.log) 오픈 및 읽기\n",
        "with open('callcenter20250301.log', 'r', encoding='utf-8') as f:\n",
        "    content = f.read()\n",
        "## 주민등록번호 패턴 생성\n",
        "\n",
        "## 주민등록번호 마스킹\n",
        "\n",
        "\n",
        "## 마스킹된 파일(callcenter20250301_masked.log) 오픈 및 쓰기\n",
        "\n",
        "\n",
        "print(\"주민등록번호 마스킹 완료. 'callcenter20250301_masked.log.txt' 파일로 저장되었습니다.\")"
      ],
      "metadata": {
        "id": "60qOf7uxVdAg"
      },
      "execution_count": null,
      "outputs": []
    },
    {
      "cell_type": "markdown",
      "source": [
        "## 4-4 Open-Meteo의 무료 날씨 API를 통한 특정 지역 온도 조회"
      ],
      "metadata": {
        "id": "eOMufu5SXiAU"
      }
    },
    {
      "cell_type": "code",
      "source": [
        "import requests\n",
        "import json\n",
        "\n",
        "url = \"https://api.open-meteo.com/v1/forecast?=&=&current=temperature_2m\"\n",
        "params = {\n",
        "    \"latitude\": \"37.58638333\",\n",
        "    \"longitude\": \"127.0203333\",\n",
        "    \"current\": \"temperature_2m\"\n",
        "}\n",
        "\n",
        "try:\n",
        "    ## URL 및 파라미터 전송\n",
        "\n",
        "    ## JSON 데이터 읽기\n",
        "\n",
        "    print(\"API 응답:\", data)\n",
        "    print(\"서울시 종로구의 현재 온도는 : {0}{1} 입니다.\".format(data['current']['temperature_2m'], data['current_units']['temperature_2m']))\n",
        "\n",
        "except requests.exceptions.RequestException as e:\n",
        "    print(f\"API 호출 실패: {e}\")\n",
        "except json.JSONDecodeError as e:\n",
        "    print(f\"JSON 파싱 실패: {e}\")"
      ],
      "metadata": {
        "id": "JpmgdsW9V0CY"
      },
      "execution_count": null,
      "outputs": []
    },
    {
      "cell_type": "markdown",
      "source": [
        "## 4-5 Selenium과 lxml을 이용한 웹 스크래핑"
      ],
      "metadata": {
        "id": "RLfPaa1ZiqIC"
      }
    },
    {
      "cell_type": "code",
      "source": [
        "!curl -o google-chrome-stable_current_amd64.deb https://dl.google.com/linux/direct/google-chrome-stable_current_amd64.deb\n",
        "!apt install ./google-chrome-stable_current_amd64.deb -y\n",
        "!pip install selenium webdriver_manager"
      ],
      "metadata": {
        "id": "79dmM7MNk8pB"
      },
      "execution_count": null,
      "outputs": []
    },
    {
      "cell_type": "code",
      "source": [
        "from selenium import webdriver\n",
        "from selenium.webdriver.chrome.service import Service as ChromeService\n",
        "from webdriver_manager.chrome import ChromeDriverManager\n",
        "from selenium.webdriver.common.by import By\n",
        "from lxml import html\n",
        "import time\n",
        "\n",
        "chrome_options = webdriver.ChromeOptions()\n",
        "chrome_options.add_argument('--headless')               # 브라우저 창 없이 실행\n",
        "chrome_options.add_argument('--no-sandbox')             # 보안모드 비활성화 (Colab 필수)\n",
        "chrome_options.add_argument('--disable-dev-shm-usage')  # 메모리 부족 방지 (Colab 필수)\n",
        "chrome_options.add_argument('--window-size=1920x1080')  # 창 크기 설정(가상)\n",
        "chrome_options.add_argument('--disable-gpu')            # GPU 가속 비활성화 (일부 환경 안정성)\n",
        "chrome_options.binary_location = \"/usr/bin/google-chrome-stable\"  # Colab용 크롬 경로 지정\n",
        "\n",
        "## 드라이버 실행\n",
        "driver = webdriver.Chrome(options=chrome_options)\n",
        "\n",
        "## 사이트 접속\n",
        "\n",
        "\n",
        "## 사이트 접속 대기\n",
        "\n",
        "\n",
        "## 페이지 제목 출력\n",
        "\n",
        "\n",
        "## 드라이버 종료\n",
        "driver.quit()"
      ],
      "metadata": {
        "id": "cRC8x3_iW0im"
      },
      "execution_count": null,
      "outputs": []
    },
    {
      "cell_type": "markdown",
      "source": [
        "\n",
        "# 실습 시나리오"
      ],
      "metadata": {
        "id": "Bu6OMZyGirOq"
      }
    },
    {
      "cell_type": "markdown",
      "source": [
        "## 공공데이터 포털 가입 및 데이터 신청\n",
        "\n",
        "- [https://www.data.go.kr](https://www.data.go.kr)\n",
        "- 한국환경공단 에어코리아 대기오염정보 데이터 신청"
      ],
      "metadata": {
        "id": "nsuqRN9RkZlW"
      }
    },
    {
      "cell_type": "code",
      "source": [
        "import requests\n",
        "import time\n",
        "## 데이터 수집 url 및 api key 설정\n",
        "#url = \"http://openapi.seoul.go.kr:8088/5062616466646e6737315a6a754c41/json/energyUseDataSummaryInfo/1/5/2015/01\"\n",
        "SERVICE = \"energyUseDataSummaryInfo\"\n",
        "\n",
        "results = []\n",
        "\n",
        "for year in range(2015, 2025):\n",
        "    for month in range(1, 13):\n",
        "        if year == 2024 and month == 12:\n",
        "            break\n",
        "\n",
        "        url = f\"http://openapi.seoul.go.kr:8088/5062616466646e6737315a6a754c41/json/energyUseDataSummaryInfo/1/5/{year}/{month:02d}\"\n",
        "\n",
        "        try:\n",
        "            response = requests.get(url)\n",
        "            data = response.json()\n",
        "\n",
        "            if SERVICE in data and \"row\" in data[SERVICE]:\n",
        "                rows = data[SERVICE][\"row\"]\n",
        "\n",
        "                for row in rows:\n",
        "                    if row.get(\"MM_TYPE\") == \"개인\":\n",
        "                        print({\n",
        "                            \"YEAR\": row.get(\"YEAR\"),\n",
        "                            \"MONTH\": row.get(\"MON\"),\n",
        "                            \"ELECTRICITY_USE\": row.get(\"EUS\"),\n",
        "                            \"GAS_USE\": row.get(\"GUS\"),\n",
        "                            \"WATER_USE\": row.get(\"WUS\"),\n",
        "                            \"HEATING_USE\": row.get(\"HUS\")\n",
        "                        })\n",
        "\n",
        "\n",
        "\n",
        "\n",
        "        except Exception as e:\n",
        "            print(f\"{year}-{month:02d} 호출 실패:\", e)\n",
        "\n",
        "#        time.sleep(1)\n",
        "\n"
      ],
      "metadata": {
        "id": "7yCozmQeXJcO",
        "outputId": "55bc4f93-1fd3-40c9-d927-a82b3bb97ce7",
        "colab": {
          "base_uri": "https://localhost:8080/"
        }
      },
      "execution_count": 19,
      "outputs": [
        {
          "output_type": "stream",
          "name": "stdout",
          "text": [
            "{'YEAR': '2015', 'MONTH': '01', 'ELECTRICITY_USE': '193784708', 'GAS_USE': '59133720', 'WATER_USE': '12819757.886', 'HEATING_USE': '22740838.937'}\n",
            "{'YEAR': '2015', 'MONTH': '02', 'ELECTRICITY_USE': '189974230', 'GAS_USE': '56487358', 'WATER_USE': '12656888.218', 'HEATING_USE': '18793320.213'}\n",
            "{'YEAR': '2015', 'MONTH': '05', 'ELECTRICITY_USE': '177289769', 'GAS_USE': '22060892', 'WATER_USE': '13086734.214', 'HEATING_USE': '1320895.801'}\n",
            "{'YEAR': '2015', 'MONTH': '06', 'ELECTRICITY_USE': '186073153', 'GAS_USE': '12677645', 'WATER_USE': '14241651.402', 'HEATING_USE': '294312.634'}\n",
            "{'YEAR': '2015', 'MONTH': '07', 'ELECTRICITY_USE': '165114568', 'GAS_USE': '8893640', 'WATER_USE': '12083879.038', 'HEATING_USE': '702863.645'}\n",
            "{'YEAR': '2015', 'MONTH': '08', 'ELECTRICITY_USE': '242000479', 'GAS_USE': '7619018', 'WATER_USE': '15164553.742', 'HEATING_USE': '460288.965'}\n",
            "{'YEAR': '2015', 'MONTH': '10', 'ELECTRICITY_USE': '186473958', 'GAS_USE': '8924018', 'WATER_USE': '14711828.766', 'HEATING_USE': '3167520.127'}\n",
            "{'YEAR': '2015', 'MONTH': '12', 'ELECTRICITY_USE': '203388142', 'GAS_USE': '40095231', 'WATER_USE': '13904162.958', 'HEATING_USE': '21102616.717'}\n",
            "{'YEAR': '2016', 'MONTH': '01', 'ELECTRICITY_USE': '215330620', 'GAS_USE': '57641741', 'WATER_USE': '13218916.436', 'HEATING_USE': '27186166.133'}\n",
            "{'YEAR': '2016', 'MONTH': '02', 'ELECTRICITY_USE': '216677664', 'GAS_USE': '68879796', 'WATER_USE': '13312113.622', 'HEATING_USE': '21452994.715'}\n",
            "{'YEAR': '2016', 'MONTH': '03', 'ELECTRICITY_USE': '203451798', 'GAS_USE': '60019600', 'WATER_USE': '13191615.499', 'HEATING_USE': '14070182.978'}\n",
            "{'YEAR': '2016', 'MONTH': '04', 'ELECTRICITY_USE': '202541336', 'GAS_USE': '40370608', 'WATER_USE': '13748935.736', 'HEATING_USE': '4556396.936'}\n",
            "{'YEAR': '2016', 'MONTH': '05', 'ELECTRICITY_USE': '195448592', 'GAS_USE': '23077064', 'WATER_USE': '13762618.524', 'HEATING_USE': '1166907.615'}\n",
            "{'YEAR': '2016', 'MONTH': '06', 'ELECTRICITY_USE': '205061790', 'GAS_USE': '13344932', 'WATER_USE': '14543461.284', 'HEATING_USE': '340601.066'}\n",
            "{'YEAR': '2016', 'MONTH': '09', 'ELECTRICITY_USE': '241676328', 'GAS_USE': '7030657', 'WATER_USE': '15233262.266', 'HEATING_USE': '2597269.386'}\n",
            "{'YEAR': '2016', 'MONTH': '10', 'ELECTRICITY_USE': '197827666', 'GAS_USE': '10129547', 'WATER_USE': '15173666.268', 'HEATING_USE': '2142328.405'}\n",
            "{'YEAR': '2016', 'MONTH': '11', 'ELECTRICITY_USE': '204812090', 'GAS_USE': '23915383', 'WATER_USE': '7215169', 'HEATING_USE': '10865402.481'}\n",
            "{'YEAR': '2017', 'MONTH': '01', 'ELECTRICITY_USE': '222980440', 'GAS_USE': '61781772', 'WATER_USE': '14077034.016', 'HEATING_USE': '20567265.356'}\n",
            "{'YEAR': '2017', 'MONTH': '02', 'ELECTRICITY_USE': '226181991', 'GAS_USE': '73537514', 'WATER_USE': '13724166.552', 'HEATING_USE': '17733782.246'}\n",
            "{'YEAR': '2017', 'MONTH': '03', 'ELECTRICITY_USE': '208386870', 'GAS_USE': '64297007', 'WATER_USE': '13598081.92', 'HEATING_USE': '11477962.549'}\n",
            "{'YEAR': '2017', 'MONTH': '05', 'ELECTRICITY_USE': '209894672', 'GAS_USE': '25103152', 'WATER_USE': '12950202.184', 'HEATING_USE': '19809726.81'}\n",
            "{'YEAR': '2017', 'MONTH': '08', 'ELECTRICITY_USE': '297850172', 'GAS_USE': '8429188', 'WATER_USE': '14291829.084', 'HEATING_USE': '118927.011'}\n",
            "{'YEAR': '2017', 'MONTH': '09', 'ELECTRICITY_USE': '232360099', 'GAS_USE': '8981707', 'WATER_USE': '13842675.562', 'HEATING_USE': '1279967.753'}\n",
            "{'YEAR': '2017', 'MONTH': '10', 'ELECTRICITY_USE': '202205893', 'GAS_USE': '11910453', 'WATER_USE': '13811362.596', 'HEATING_USE': '2177857.689'}\n",
            "{'YEAR': '2017', 'MONTH': '11', 'ELECTRICITY_USE': '215620132', 'GAS_USE': '26041170', 'WATER_USE': '13268391.686', 'HEATING_USE': '12290667.843'}\n",
            "{'YEAR': '2018', 'MONTH': '02', 'ELECTRICITY_USE': '243271752', 'GAS_USE': '88496947', 'WATER_USE': '12905042.86', 'HEATING_USE': '22671708.494'}\n",
            "{'YEAR': '2018', 'MONTH': '03', 'ELECTRICITY_USE': '219203768', 'GAS_USE': '73426397', 'WATER_USE': '12769174.532', 'HEATING_USE': '10924939.951'}\n",
            "{'YEAR': '2018', 'MONTH': '06', 'ELECTRICITY_USE': '222820943', 'GAS_USE': '17132065', 'WATER_USE': '14051336.092', 'HEATING_USE': '285820.628'}\n",
            "{'YEAR': '2018', 'MONTH': '07', 'ELECTRICITY_USE': '269705511', 'GAS_USE': '11259835', 'WATER_USE': '14333667.052', 'HEATING_USE': '25843523.832'}\n",
            "{'YEAR': '2018', 'MONTH': '11', 'ELECTRICITY_USE': '227294230', 'GAS_USE': '31239511', 'WATER_USE': '13706690.088', 'HEATING_USE': '10276290.855'}\n",
            "{'YEAR': '2018', 'MONTH': '12', 'ELECTRICITY_USE': '238692561', 'GAS_USE': '54019855', 'WATER_USE': '13732488.456', 'HEATING_USE': '20421845.603'}\n",
            "{'YEAR': '2019', 'MONTH': '01', 'ELECTRICITY_USE': '253600219', 'GAS_USE': '80308239', 'WATER_USE': '13442971.1', 'HEATING_USE': '21963093.848'}\n",
            "{'YEAR': '2019', 'MONTH': '02', 'ELECTRICITY_USE': '244927344', 'GAS_USE': '81902188', 'WATER_USE': '13495213.9', 'HEATING_USE': '106134923.132'}\n",
            "{'YEAR': '2019', 'MONTH': '03', 'ELECTRICITY_USE': '223736787', 'GAS_USE': '65146586.443', 'WATER_USE': '13167550', 'HEATING_USE': '13194262.09'}\n",
            "{'YEAR': '2019', 'MONTH': '04', 'ELECTRICITY_USE': '232166121', 'GAS_USE': '49391508', 'WATER_USE': '13753270.8', 'HEATING_USE': '7858587.747'}\n",
            "{'YEAR': '2019', 'MONTH': '06', 'ELECTRICITY_USE': '226119779', 'GAS_USE': '15771701', 'WATER_USE': '14223536.4', 'HEATING_USE': '331690.945'}\n",
            "{'YEAR': '2019', 'MONTH': '07', 'ELECTRICITY_USE': '257854441', 'GAS_USE': '10700835', 'WATER_USE': '14451345.9', 'HEATING_USE': '968957.161'}\n",
            "{'YEAR': '2019', 'MONTH': '10', 'ELECTRICITY_USE': '228095713', 'GAS_USE': '11876816', 'WATER_USE': '14804362.3', 'HEATING_USE': '2590192.143'}\n",
            "{'YEAR': '2019', 'MONTH': '11', 'ELECTRICITY_USE': '231283724', 'GAS_USE': '24835894', 'WATER_USE': '14123043.9', 'HEATING_USE': '14983364.884'}\n",
            "{'YEAR': '2019', 'MONTH': '12', 'ELECTRICITY_USE': '244976724', 'GAS_USE': '54509050', 'WATER_USE': '14184785.2', 'HEATING_USE': '23558262.283'}\n",
            "{'YEAR': '2020', 'MONTH': '02', 'ELECTRICITY_USE': '254879033', 'GAS_USE': '76363768', 'WATER_USE': '14052828.8', 'HEATING_USE': '20848668.612'}\n",
            "{'YEAR': '2020', 'MONTH': '03', 'ELECTRICITY_USE': '244369714', 'GAS_USE': '64367515', 'WATER_USE': '13841531', 'HEATING_USE': '14194450.151'}\n",
            "{'YEAR': '2020', 'MONTH': '04', 'ELECTRICITY_USE': '247831442', 'GAS_USE': '48373693', 'WATER_USE': '14618775.2', 'HEATING_USE': '8499792.566'}\n",
            "{'YEAR': '2020', 'MONTH': '08', 'ELECTRICITY_USE': '320723239', 'GAS_USE': '10177428', 'WATER_USE': '15600097.8', 'HEATING_USE': '286814.663'}\n",
            "{'YEAR': '2020', 'MONTH': '11', 'ELECTRICITY_USE': '247308528', 'GAS_USE': '30095679', 'WATER_USE': '14835013.9', 'HEATING_USE': '12882737.572'}\n",
            "{'YEAR': '2020', 'MONTH': '12', 'ELECTRICITY_USE': '265370372', 'GAS_USE': '51095720', 'WATER_USE': '15036546.3', 'HEATING_USE': '26512966.052'}\n",
            "{'YEAR': '2021', 'MONTH': '01', 'ELECTRICITY_USE': '287882528', 'GAS_USE': '80955422', 'WATER_USE': '14273105.8', 'HEATING_USE': '31069705.783'}\n",
            "{'YEAR': '2021', 'MONTH': '02', 'ELECTRICITY_USE': '271224712', 'GAS_USE': '85581769', 'WATER_USE': '13679936.9', 'HEATING_USE': '22238103.26'}\n",
            "{'YEAR': '2021', 'MONTH': '05', 'ELECTRICITY_USE': '241741576', 'GAS_USE': '24638403', 'WATER_USE': '14312460.916', 'HEATING_USE': '2246730.037'}\n",
            "{'YEAR': '2021', 'MONTH': '06', 'ELECTRICITY_USE': '254958704', 'GAS_USE': '18898880', 'WATER_USE': '15174790.6', 'HEATING_USE': '396903.273'}\n",
            "{'YEAR': '2021', 'MONTH': '07', 'ELECTRICITY_USE': '334733756', 'GAS_USE': '9631171', 'WATER_USE': '16619105.064', 'HEATING_USE': '5529269.058'}\n",
            "{'YEAR': '2021', 'MONTH': '08', 'ELECTRICITY_USE': '409719040', 'GAS_USE': '10205066', 'WATER_USE': '15737994.8', 'HEATING_USE': '127607.838'}\n",
            "{'YEAR': '2021', 'MONTH': '09', 'ELECTRICITY_USE': '290606638', 'GAS_USE': '6602872', 'WATER_USE': '15497783.9', 'HEATING_USE': '159066.058'}\n",
            "{'YEAR': '2021', 'MONTH': '10', 'ELECTRICITY_USE': '253845816', 'GAS_USE': '13840155', 'WATER_USE': '15930639.8', 'HEATING_USE': '4220985.501'}\n",
            "{'YEAR': '2021', 'MONTH': '11', 'ELECTRICITY_USE': '255516339', 'GAS_USE': '28571168', 'WATER_USE': '14975050.4', 'HEATING_USE': '13463697.643'}\n",
            "{'YEAR': '2021', 'MONTH': '12', 'ELECTRICITY_USE': '265314948', 'GAS_USE': '54651317', 'WATER_USE': '14873728.5', 'HEATING_USE': '25989752.285'}\n",
            "{'YEAR': '2022', 'MONTH': '03', 'ELECTRICITY_USE': '256771728', 'GAS_USE': '75577723', 'WATER_USE': '14181287.1', 'HEATING_USE': '15843818.715'}\n",
            "{'YEAR': '2022', 'MONTH': '05', 'ELECTRICITY_USE': '238866649', 'GAS_USE': '28185559', 'WATER_USE': '14344240.1', 'HEATING_USE': '1457446.39'}\n",
            "{'YEAR': '2022', 'MONTH': '06', 'ELECTRICITY_USE': '254486733', 'GAS_USE': '15468022', 'WATER_USE': '15087457.3', 'HEATING_USE': '838539.99'}\n",
            "{'YEAR': '2022', 'MONTH': '07', 'ELECTRICITY_USE': '336383318', 'GAS_USE': '10701998', 'WATER_USE': '14907198', 'HEATING_USE': '50033.827'}\n",
            "{'YEAR': '2022', 'MONTH': '08', 'ELECTRICITY_USE': '382965547', 'GAS_USE': '8718677', 'WATER_USE': '15555926.8', 'HEATING_USE': '3278812.728'}\n",
            "{'YEAR': '2022', 'MONTH': '09', 'ELECTRICITY_USE': '294121752', 'GAS_USE': '9220604.8', 'WATER_USE': '15016541.4', 'HEATING_USE': '7221052.414'}\n",
            "{'YEAR': '2022', 'MONTH': '11', 'ELECTRICITY_USE': '252081207', 'GAS_USE': '28471902', 'WATER_USE': '14485236.6', 'HEATING_USE': '10685943.786'}\n",
            "{'YEAR': '2022', 'MONTH': '12', 'ELECTRICITY_USE': '266989892', 'GAS_USE': '52230601', 'WATER_USE': '14538742.5', 'HEATING_USE': '31655489.658'}\n",
            "{'YEAR': '2023', 'MONTH': '04', 'ELECTRICITY_USE': '247142965', 'GAS_USE': '38484227', 'WATER_USE': '13951884.7', 'HEATING_USE': '4292056.162'}\n",
            "{'YEAR': '2023', 'MONTH': '06', 'ELECTRICITY_USE': '259143276', 'GAS_USE': '14742811', 'WATER_USE': '14822130.1', 'HEATING_USE': '1169879.028'}\n",
            "{'YEAR': '2023', 'MONTH': '08', 'ELECTRICITY_USE': '407479395', 'GAS_USE': '8486915', 'WATER_USE': '15402396.8', 'HEATING_USE': '530124.99'}\n",
            "{'YEAR': '2023', 'MONTH': '09', 'ELECTRICITY_USE': '332452167', 'GAS_USE': '7674573', 'WATER_USE': '14941654.4', 'HEATING_USE': '19457189.828'}\n",
            "{'YEAR': '2023', 'MONTH': '10', 'ELECTRICITY_USE': '255560826', 'GAS_USE': '11273798', 'WATER_USE': '14918622.9', 'HEATING_USE': '3049594.261'}\n",
            "{'YEAR': '2023', 'MONTH': '11', 'ELECTRICITY_USE': '255362764', 'GAS_USE': '23749738', 'WATER_USE': '14439208.8', 'HEATING_USE': '13225464.736'}\n",
            "{'YEAR': '2023', 'MONTH': '12', 'ELECTRICITY_USE': '271015225', 'GAS_USE': '47560201', 'WATER_USE': '14519931.6', 'HEATING_USE': '24169250.596'}\n",
            "{'YEAR': '2024', 'MONTH': '01', 'ELECTRICITY_USE': '290223476', 'GAS_USE': '65608930', 'WATER_USE': '14119336.8', 'HEATING_USE': '26759601.094'}\n",
            "{'YEAR': '2024', 'MONTH': '02', 'ELECTRICITY_USE': '280810330', 'GAS_USE': '65184440', 'WATER_USE': '14247296.7', 'HEATING_USE': '18696968.203'}\n",
            "{'YEAR': '2024', 'MONTH': '03', 'ELECTRICITY_USE': '259332255', 'GAS_USE': '58563376', 'WATER_USE': '13792441.8', 'HEATING_USE': '13455710.256'}\n",
            "{'YEAR': '2024', 'MONTH': '04', 'ELECTRICITY_USE': '256332884', 'GAS_USE': '35786315', 'WATER_USE': '14330249.1', 'HEATING_USE': '3099650.225'}\n",
            "{'YEAR': '2024', 'MONTH': '05', 'ELECTRICITY_USE': '244740675', 'GAS_USE': '18077028', 'WATER_USE': '14158142.9', 'HEATING_USE': '28333197.76'}\n",
            "{'YEAR': '2024', 'MONTH': '06', 'ELECTRICITY_USE': '270158916', 'GAS_USE': '11903071', 'WATER_USE': '14966075.6', 'HEATING_USE': '20226852.923'}\n",
            "{'YEAR': '2024', 'MONTH': '07', 'ELECTRICITY_USE': '340000663', 'GAS_USE': '8319412', 'WATER_USE': '14992942.2', 'HEATING_USE': '2173041.617'}\n",
            "{'YEAR': '2024', 'MONTH': '08', 'ELECTRICITY_USE': '463971328', 'GAS_USE': '7072251', 'WATER_USE': '15873544.6', 'HEATING_USE': '130082.263'}\n",
            "{'YEAR': '2024', 'MONTH': '09', 'ELECTRICITY_USE': '409872908', 'GAS_USE': '5729131', 'WATER_USE': '15143321.6', 'HEATING_USE': '3420507.136'}\n",
            "{'YEAR': '2024', 'MONTH': '10', 'ELECTRICITY_USE': '282268119', 'GAS_USE': '8233421', 'WATER_USE': '15297669.9', 'HEATING_USE': '2695491.396'}\n",
            "{'YEAR': '2024', 'MONTH': '11', 'ELECTRICITY_USE': '257927956', 'GAS_USE': '17418221', 'WATER_USE': '14678672.5', 'HEATING_USE': '8836296.454'}\n"
          ]
        }
      ]
    }
  ]
}